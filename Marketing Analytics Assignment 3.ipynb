{
 "cells": [
  {
   "cell_type": "code",
   "execution_count": 195,
   "id": "29cdaa7a",
   "metadata": {},
   "outputs": [],
   "source": [
    "import pandas as pd\n",
    "import math"
   ]
  },
  {
   "cell_type": "code",
   "execution_count": 196,
   "id": "e9b75410",
   "metadata": {},
   "outputs": [
    {
     "data": {
      "text/html": [
       "<div>\n",
       "<style scoped>\n",
       "    .dataframe tbody tr th:only-of-type {\n",
       "        vertical-align: middle;\n",
       "    }\n",
       "\n",
       "    .dataframe tbody tr th {\n",
       "        vertical-align: top;\n",
       "    }\n",
       "\n",
       "    .dataframe thead th {\n",
       "        text-align: right;\n",
       "    }\n",
       "</style>\n",
       "<table border=\"1\" class=\"dataframe\">\n",
       "  <thead>\n",
       "    <tr style=\"text-align: right;\">\n",
       "      <th></th>\n",
       "      <th>convert_TF</th>\n",
       "      <th>touch1</th>\n",
       "      <th>touch2</th>\n",
       "      <th>touch3</th>\n",
       "      <th>touch4</th>\n",
       "      <th>touch5</th>\n",
       "      <th>tier</th>\n",
       "    </tr>\n",
       "  </thead>\n",
       "  <tbody>\n",
       "    <tr>\n",
       "      <th>0</th>\n",
       "      <td>True</td>\n",
       "      <td>referral</td>\n",
       "      <td>referral</td>\n",
       "      <td>referral</td>\n",
       "      <td>email</td>\n",
       "      <td>NaN</td>\n",
       "      <td>1</td>\n",
       "    </tr>\n",
       "    <tr>\n",
       "      <th>1</th>\n",
       "      <td>True</td>\n",
       "      <td>referral</td>\n",
       "      <td>display</td>\n",
       "      <td>display</td>\n",
       "      <td>email</td>\n",
       "      <td>NaN</td>\n",
       "      <td>1</td>\n",
       "    </tr>\n",
       "    <tr>\n",
       "      <th>2</th>\n",
       "      <td>True</td>\n",
       "      <td>email</td>\n",
       "      <td>display</td>\n",
       "      <td>referral</td>\n",
       "      <td>NaN</td>\n",
       "      <td>NaN</td>\n",
       "      <td>1</td>\n",
       "    </tr>\n",
       "    <tr>\n",
       "      <th>3</th>\n",
       "      <td>True</td>\n",
       "      <td>referral</td>\n",
       "      <td>referral</td>\n",
       "      <td>email</td>\n",
       "      <td>NaN</td>\n",
       "      <td>NaN</td>\n",
       "      <td>1</td>\n",
       "    </tr>\n",
       "    <tr>\n",
       "      <th>4</th>\n",
       "      <td>True</td>\n",
       "      <td>social</td>\n",
       "      <td>referral</td>\n",
       "      <td>NaN</td>\n",
       "      <td>NaN</td>\n",
       "      <td>NaN</td>\n",
       "      <td>1</td>\n",
       "    </tr>\n",
       "    <tr>\n",
       "      <th>...</th>\n",
       "      <td>...</td>\n",
       "      <td>...</td>\n",
       "      <td>...</td>\n",
       "      <td>...</td>\n",
       "      <td>...</td>\n",
       "      <td>...</td>\n",
       "      <td>...</td>\n",
       "    </tr>\n",
       "    <tr>\n",
       "      <th>68119</th>\n",
       "      <td>False</td>\n",
       "      <td>social</td>\n",
       "      <td>display</td>\n",
       "      <td>direct</td>\n",
       "      <td>NaN</td>\n",
       "      <td>NaN</td>\n",
       "      <td>3</td>\n",
       "    </tr>\n",
       "    <tr>\n",
       "      <th>68120</th>\n",
       "      <td>False</td>\n",
       "      <td>referral</td>\n",
       "      <td>referral</td>\n",
       "      <td>referral</td>\n",
       "      <td>referral</td>\n",
       "      <td>direct</td>\n",
       "      <td>3</td>\n",
       "    </tr>\n",
       "    <tr>\n",
       "      <th>68121</th>\n",
       "      <td>False</td>\n",
       "      <td>display</td>\n",
       "      <td>referral</td>\n",
       "      <td>social</td>\n",
       "      <td>direct</td>\n",
       "      <td>NaN</td>\n",
       "      <td>3</td>\n",
       "    </tr>\n",
       "    <tr>\n",
       "      <th>68122</th>\n",
       "      <td>False</td>\n",
       "      <td>email</td>\n",
       "      <td>email</td>\n",
       "      <td>social</td>\n",
       "      <td>direct</td>\n",
       "      <td>NaN</td>\n",
       "      <td>3</td>\n",
       "    </tr>\n",
       "    <tr>\n",
       "      <th>68123</th>\n",
       "      <td>False</td>\n",
       "      <td>display</td>\n",
       "      <td>social</td>\n",
       "      <td>direct</td>\n",
       "      <td>NaN</td>\n",
       "      <td>NaN</td>\n",
       "      <td>3</td>\n",
       "    </tr>\n",
       "  </tbody>\n",
       "</table>\n",
       "<p>68124 rows × 7 columns</p>\n",
       "</div>"
      ],
      "text/plain": [
       "       convert_TF    touch1    touch2    touch3    touch4  touch5  tier\n",
       "0            True  referral  referral  referral     email     NaN     1\n",
       "1            True  referral   display   display     email     NaN     1\n",
       "2            True     email   display  referral       NaN     NaN     1\n",
       "3            True  referral  referral     email       NaN     NaN     1\n",
       "4            True    social  referral       NaN       NaN     NaN     1\n",
       "...           ...       ...       ...       ...       ...     ...   ...\n",
       "68119       False    social   display    direct       NaN     NaN     3\n",
       "68120       False  referral  referral  referral  referral  direct     3\n",
       "68121       False   display  referral    social    direct     NaN     3\n",
       "68122       False     email     email    social    direct     NaN     3\n",
       "68123       False   display    social    direct       NaN     NaN     3\n",
       "\n",
       "[68124 rows x 7 columns]"
      ]
     },
     "execution_count": 196,
     "metadata": {},
     "output_type": "execute_result"
    }
   ],
   "source": [
    "aa = pd.read_csv('attribution_allocation_student_data.csv')\n",
    "ps = pd.read_csv('channel_spend_student_data.csv')\n",
    "aa"
   ]
  },
  {
   "cell_type": "code",
   "execution_count": 197,
   "id": "bb2e6776",
   "metadata": {},
   "outputs": [
    {
     "data": {
      "text/html": [
       "<div>\n",
       "<style scoped>\n",
       "    .dataframe tbody tr th:only-of-type {\n",
       "        vertical-align: middle;\n",
       "    }\n",
       "\n",
       "    .dataframe tbody tr th {\n",
       "        vertical-align: top;\n",
       "    }\n",
       "\n",
       "    .dataframe thead th {\n",
       "        text-align: right;\n",
       "    }\n",
       "</style>\n",
       "<table border=\"1\" class=\"dataframe\">\n",
       "  <thead>\n",
       "    <tr style=\"text-align: right;\">\n",
       "      <th></th>\n",
       "      <th>convert_TF</th>\n",
       "      <th>touch1</th>\n",
       "      <th>touch2</th>\n",
       "      <th>touch3</th>\n",
       "      <th>touch4</th>\n",
       "      <th>touch5</th>\n",
       "      <th>tier</th>\n",
       "    </tr>\n",
       "  </thead>\n",
       "  <tbody>\n",
       "    <tr>\n",
       "      <th>0</th>\n",
       "      <td>True</td>\n",
       "      <td>referral</td>\n",
       "      <td>referral</td>\n",
       "      <td>referral</td>\n",
       "      <td>email</td>\n",
       "      <td>NaN</td>\n",
       "      <td>1</td>\n",
       "    </tr>\n",
       "    <tr>\n",
       "      <th>1</th>\n",
       "      <td>True</td>\n",
       "      <td>referral</td>\n",
       "      <td>display</td>\n",
       "      <td>display</td>\n",
       "      <td>email</td>\n",
       "      <td>NaN</td>\n",
       "      <td>1</td>\n",
       "    </tr>\n",
       "    <tr>\n",
       "      <th>2</th>\n",
       "      <td>True</td>\n",
       "      <td>email</td>\n",
       "      <td>display</td>\n",
       "      <td>referral</td>\n",
       "      <td>NaN</td>\n",
       "      <td>NaN</td>\n",
       "      <td>1</td>\n",
       "    </tr>\n",
       "    <tr>\n",
       "      <th>3</th>\n",
       "      <td>True</td>\n",
       "      <td>referral</td>\n",
       "      <td>referral</td>\n",
       "      <td>email</td>\n",
       "      <td>NaN</td>\n",
       "      <td>NaN</td>\n",
       "      <td>1</td>\n",
       "    </tr>\n",
       "    <tr>\n",
       "      <th>4</th>\n",
       "      <td>True</td>\n",
       "      <td>social</td>\n",
       "      <td>referral</td>\n",
       "      <td>NaN</td>\n",
       "      <td>NaN</td>\n",
       "      <td>NaN</td>\n",
       "      <td>1</td>\n",
       "    </tr>\n",
       "  </tbody>\n",
       "</table>\n",
       "</div>"
      ],
      "text/plain": [
       "   convert_TF    touch1    touch2    touch3 touch4 touch5  tier\n",
       "0        True  referral  referral  referral  email    NaN     1\n",
       "1        True  referral   display   display  email    NaN     1\n",
       "2        True     email   display  referral    NaN    NaN     1\n",
       "3        True  referral  referral     email    NaN    NaN     1\n",
       "4        True    social  referral       NaN    NaN    NaN     1"
      ]
     },
     "execution_count": 197,
     "metadata": {},
     "output_type": "execute_result"
    }
   ],
   "source": [
    "aa.head()"
   ]
  },
  {
   "cell_type": "code",
   "execution_count": 198,
   "id": "889925bc",
   "metadata": {},
   "outputs": [
    {
     "name": "stdout",
     "output_type": "stream",
     "text": [
      "  Unnamed: 0                                                  0\n",
      "0      tier1  {'email': 1000.0, 'social': 1000.0000000000001...\n",
      "1      tier2  {'email': 2000.0, 'social': 2000.0, 'display':...\n",
      "2      tier3  {'email': 3000.0, 'social': 3000.0, 'display':...\n"
     ]
    }
   ],
   "source": [
    "print(ps)"
   ]
  },
  {
   "cell_type": "code",
   "execution_count": 199,
   "id": "a30d708e",
   "metadata": {},
   "outputs": [
    {
     "data": {
      "text/plain": [
       "{'email': 6000.0,\n",
       " 'social': 6000.0,\n",
       " 'display': 6000.0,\n",
       " 'paid_search': 6000.0,\n",
       " 'referral': 6000.0,\n",
       " 'organic_search': 0.0,\n",
       " 'direct': 0.0}"
      ]
     },
     "execution_count": 199,
     "metadata": {},
     "output_type": "execute_result"
    }
   ],
   "source": [
    "tier1 = {'email': 1000.0, 'social': 1000.0000000000001, 'display': 1000.0, 'paid_search': 999.9999999999999, 'referral': 1000.0, 'organic_search': 0.0, 'direct': 0.0}\n",
    "tier2 = {'email': 2000.0, 'social': 2000.0, 'display': 2000.0, 'paid_search': 2000.0, 'referral': 2000.0, 'organic_search': 0.0, 'direct': 0.0}\n",
    "tier3 = {'email': 3000.0, 'social': 3000.0, 'display': 3000.0, 'paid_search': 3000.0, 'referral': 3000.0, 'organic_search': 0.0, 'direct': 0.0}\n",
    "tier123 = [tier1,tier2,tier3]\n",
    "tiersum = {k: sum(d[k] for d in tier123) for k in tier123[0]}\n",
    "tiersum"
   ]
  },
  {
   "cell_type": "code",
   "execution_count": 200,
   "id": "02652a85",
   "metadata": {},
   "outputs": [],
   "source": [
    "aa = aa[aa['convert_TF'] == True]"
   ]
  },
  {
   "cell_type": "code",
   "execution_count": 201,
   "id": "8589dc03",
   "metadata": {},
   "outputs": [],
   "source": [
    "aa_t1 = aa[aa['tier'] == 1]\n",
    "aa_t2 = aa[aa['tier'] == 2]\n",
    "aa_t3 = aa[aa['tier'] == 3]"
   ]
  },
  {
   "cell_type": "code",
   "execution_count": 202,
   "id": "667a1f72",
   "metadata": {},
   "outputs": [],
   "source": [
    "aa_t1 = aa_t1.drop(['convert_TF','tier'],axis = 1)\n",
    "aa_t2 = aa_t2.drop(['convert_TF','tier'],axis = 1)\n",
    "aa_t3 = aa_t3.drop(['convert_TF','tier'],axis = 1)"
   ]
  },
  {
   "cell_type": "code",
   "execution_count": 203,
   "id": "4def16f2",
   "metadata": {},
   "outputs": [],
   "source": [
    "aa= aa.drop(['convert_TF','tier'],axis = 1)"
   ]
  },
  {
   "cell_type": "code",
   "execution_count": 204,
   "id": "bd373686",
   "metadata": {},
   "outputs": [
    {
     "data": {
      "text/html": [
       "<div>\n",
       "<style scoped>\n",
       "    .dataframe tbody tr th:only-of-type {\n",
       "        vertical-align: middle;\n",
       "    }\n",
       "\n",
       "    .dataframe tbody tr th {\n",
       "        vertical-align: top;\n",
       "    }\n",
       "\n",
       "    .dataframe thead th {\n",
       "        text-align: right;\n",
       "    }\n",
       "</style>\n",
       "<table border=\"1\" class=\"dataframe\">\n",
       "  <thead>\n",
       "    <tr style=\"text-align: right;\">\n",
       "      <th></th>\n",
       "      <th>touch1</th>\n",
       "      <th>touch2</th>\n",
       "      <th>touch3</th>\n",
       "      <th>touch4</th>\n",
       "      <th>touch5</th>\n",
       "    </tr>\n",
       "  </thead>\n",
       "  <tbody>\n",
       "    <tr>\n",
       "      <th>0</th>\n",
       "      <td>referral</td>\n",
       "      <td>referral</td>\n",
       "      <td>referral</td>\n",
       "      <td>email</td>\n",
       "      <td>NaN</td>\n",
       "    </tr>\n",
       "    <tr>\n",
       "      <th>1</th>\n",
       "      <td>referral</td>\n",
       "      <td>display</td>\n",
       "      <td>display</td>\n",
       "      <td>email</td>\n",
       "      <td>NaN</td>\n",
       "    </tr>\n",
       "    <tr>\n",
       "      <th>2</th>\n",
       "      <td>email</td>\n",
       "      <td>display</td>\n",
       "      <td>referral</td>\n",
       "      <td>NaN</td>\n",
       "      <td>NaN</td>\n",
       "    </tr>\n",
       "    <tr>\n",
       "      <th>3</th>\n",
       "      <td>referral</td>\n",
       "      <td>referral</td>\n",
       "      <td>email</td>\n",
       "      <td>NaN</td>\n",
       "      <td>NaN</td>\n",
       "    </tr>\n",
       "    <tr>\n",
       "      <th>4</th>\n",
       "      <td>social</td>\n",
       "      <td>referral</td>\n",
       "      <td>NaN</td>\n",
       "      <td>NaN</td>\n",
       "      <td>NaN</td>\n",
       "    </tr>\n",
       "    <tr>\n",
       "      <th>...</th>\n",
       "      <td>...</td>\n",
       "      <td>...</td>\n",
       "      <td>...</td>\n",
       "      <td>...</td>\n",
       "      <td>...</td>\n",
       "    </tr>\n",
       "    <tr>\n",
       "      <th>4304</th>\n",
       "      <td>referral</td>\n",
       "      <td>referral</td>\n",
       "      <td>referral</td>\n",
       "      <td>NaN</td>\n",
       "      <td>NaN</td>\n",
       "    </tr>\n",
       "    <tr>\n",
       "      <th>4305</th>\n",
       "      <td>referral</td>\n",
       "      <td>referral</td>\n",
       "      <td>social</td>\n",
       "      <td>social</td>\n",
       "      <td>referral</td>\n",
       "    </tr>\n",
       "    <tr>\n",
       "      <th>11333</th>\n",
       "      <td>referral</td>\n",
       "      <td>referral</td>\n",
       "      <td>organic_search</td>\n",
       "      <td>NaN</td>\n",
       "      <td>NaN</td>\n",
       "    </tr>\n",
       "    <tr>\n",
       "      <th>11334</th>\n",
       "      <td>referral</td>\n",
       "      <td>referral</td>\n",
       "      <td>organic_search</td>\n",
       "      <td>NaN</td>\n",
       "      <td>NaN</td>\n",
       "    </tr>\n",
       "    <tr>\n",
       "      <th>11347</th>\n",
       "      <td>referral</td>\n",
       "      <td>referral</td>\n",
       "      <td>NaN</td>\n",
       "      <td>NaN</td>\n",
       "      <td>NaN</td>\n",
       "    </tr>\n",
       "  </tbody>\n",
       "</table>\n",
       "<p>2824 rows × 5 columns</p>\n",
       "</div>"
      ],
      "text/plain": [
       "         touch1    touch2          touch3  touch4    touch5\n",
       "0      referral  referral        referral   email       NaN\n",
       "1      referral   display         display   email       NaN\n",
       "2         email   display        referral     NaN       NaN\n",
       "3      referral  referral           email     NaN       NaN\n",
       "4        social  referral             NaN     NaN       NaN\n",
       "...         ...       ...             ...     ...       ...\n",
       "4304   referral  referral        referral     NaN       NaN\n",
       "4305   referral  referral          social  social  referral\n",
       "11333  referral  referral  organic_search     NaN       NaN\n",
       "11334  referral  referral  organic_search     NaN       NaN\n",
       "11347  referral  referral             NaN     NaN       NaN\n",
       "\n",
       "[2824 rows x 5 columns]"
      ]
     },
     "execution_count": 204,
     "metadata": {},
     "output_type": "execute_result"
    }
   ],
   "source": [
    "aa_t1"
   ]
  },
  {
   "cell_type": "code",
   "execution_count": 205,
   "id": "56067b06",
   "metadata": {},
   "outputs": [],
   "source": [
    "## last interaction"
   ]
  },
  {
   "cell_type": "code",
   "execution_count": 206,
   "id": "4977c226",
   "metadata": {},
   "outputs": [],
   "source": [
    "lt = aa.values.tolist()\n",
    "lt = [[x for x in i if x == x]for i in lt]\n",
    "lt = [[i[-1]]for i in lt]"
   ]
  },
  {
   "cell_type": "code",
   "execution_count": 207,
   "id": "be67d36d",
   "metadata": {},
   "outputs": [
    {
     "data": {
      "text/plain": [
       "{'email': 4.0241448692152915,\n",
       " 'social': 2.027027027027027,\n",
       " 'display': 2.6178010471204187,\n",
       " 'paid_search': 5.9760956175298805,\n",
       " 'referral': 0.9976720984369803,\n",
       " 'organic_search': 0.0,\n",
       " 'direct': 0.0}"
      ]
     },
     "execution_count": 207,
     "metadata": {},
     "output_type": "execute_result"
    }
   ],
   "source": [
    "from collections import Counter\n",
    "channel_customers_counts = Counter(x for i in lt for x in set(i))\n",
    "cac = []\n",
    "b = []\n",
    "for x in tier1:\n",
    "    a = int(tiersum[x])/int(channel_customers_counts[x])\n",
    "    cac.append(a)\n",
    "    b.append(x)\n",
    "cac = {b[i]:cac[i] for i in range(len(b))}\n",
    "cac"
   ]
  },
  {
   "cell_type": "code",
   "execution_count": 208,
   "id": "072a1687",
   "metadata": {},
   "outputs": [],
   "source": [
    "## first interaction"
   ]
  },
  {
   "cell_type": "code",
   "execution_count": 209,
   "id": "bf8256be",
   "metadata": {},
   "outputs": [],
   "source": [
    "fi = aa.values.tolist()\n",
    "fi = [[x for x in i if x == x]for i in fi]\n",
    "fi = [[i[0]]for i in fi]"
   ]
  },
  {
   "cell_type": "code",
   "execution_count": 210,
   "id": "94d1966c",
   "metadata": {},
   "outputs": [
    {
     "data": {
      "text/plain": [
       "{'email': 4.672897196261682,\n",
       " 'social': 2.6315789473684212,\n",
       " 'display': 2.9542097488921715,\n",
       " 'paid_search': 8.982035928143713,\n",
       " 'referral': 0.800533689126084,\n",
       " 'organic_search': 0.0,\n",
       " 'direct': 0.0}"
      ]
     },
     "execution_count": 210,
     "metadata": {},
     "output_type": "execute_result"
    }
   ],
   "source": [
    "from collections import Counter\n",
    "channel_customers_counts = Counter(x for i in fi for x in set(i))\n",
    "cac = []\n",
    "b = []\n",
    "for x in tier1:\n",
    "    a = int(tiersum[x])/int(channel_customers_counts[x])\n",
    "    cac.append(a)\n",
    "    b.append(x)\n",
    "cac = {b[i]:cac[i] for i in range(len(b))}\n",
    "cac"
   ]
  },
  {
   "cell_type": "code",
   "execution_count": 211,
   "id": "f7a7315e",
   "metadata": {},
   "outputs": [],
   "source": [
    "## last non-direct click"
   ]
  },
  {
   "cell_type": "code",
   "execution_count": 212,
   "id": "f35377ff",
   "metadata": {},
   "outputs": [],
   "source": [
    "ln = aa.values.tolist()\n",
    "ln = [[x for x in i if x == x and x!='direct']for i in ln]\n",
    "ln = [x for x in ln if x]\n",
    "ln = [[i[-1]]for i in ln]"
   ]
  },
  {
   "cell_type": "code",
   "execution_count": 213,
   "id": "0edb95fc",
   "metadata": {},
   "outputs": [
    {
     "data": {
      "text/plain": [
       "{'email': 4.0241448692152915,\n",
       " 'social': 2.027027027027027,\n",
       " 'display': 2.6178010471204187,\n",
       " 'paid_search': 5.9760956175298805,\n",
       " 'referral': 0.9976720984369803,\n",
       " 'organic_search': 0.0,\n",
       " 'direct': 0.0}"
      ]
     },
     "execution_count": 213,
     "metadata": {},
     "output_type": "execute_result"
    }
   ],
   "source": [
    "from collections import Counter\n",
    "channel_customers_counts = Counter(x for i in lt for x in set(i))\n",
    "cac = []\n",
    "b = []\n",
    "for x in tier1:\n",
    "    a = int(tiersum[x])/int(channel_customers_counts[x])\n",
    "    cac.append(a)\n",
    "    b.append(x)\n",
    "cac = {b[i]:cac[i] for i in range(len(b))}\n",
    "cac"
   ]
  },
  {
   "cell_type": "code",
   "execution_count": 214,
   "id": "a686f2fa",
   "metadata": {},
   "outputs": [],
   "source": [
    "## question 2"
   ]
  },
  {
   "cell_type": "code",
   "execution_count": 215,
   "id": "a6f986f1",
   "metadata": {},
   "outputs": [],
   "source": [
    "lt_t1 = aa_t1.values.tolist()\n",
    "lt_t1 = [[x for x in i if x == x]for i in lt_t1]\n",
    "lt_t1 = [[i[-1]]for i in lt_t1]"
   ]
  },
  {
   "cell_type": "code",
   "execution_count": 247,
   "id": "8ae5e32b",
   "metadata": {},
   "outputs": [
    {
     "name": "stdout",
     "output_type": "stream",
     "text": [
      "{'email': 3.5587188612099645, 'social': 1.6, 'display': 1.893939393939394, 'paid_search': 5.676136363636363, 'referral': 0.8257638315441783, 'organic_search': 0.0, 'direct': 0.0} Counter({'referral': 1211, 'social': 625, 'display': 528, 'email': 281, 'paid_search': 176, 'organic_search': 2, 'direct': 1})\n"
     ]
    }
   ],
   "source": [
    "from collections import Counter\n",
    "channel_customers_counts1 = Counter(x for i in lt_t1 for x in set(i))\n",
    "cac = []\n",
    "b = []\n",
    "for x in tier1:\n",
    "    a = int(tier1[x])/int(channel_customers_counts1[x])\n",
    "    cac.append(a)\n",
    "    b.append(x)\n",
    "cac = {b[i]:cac[i] for i in range(len(b))}\n",
    "print(cac,channel_customers_counts1)"
   ]
  },
  {
   "cell_type": "code",
   "execution_count": 217,
   "id": "ec593b8d",
   "metadata": {},
   "outputs": [],
   "source": [
    "lt_t2 = aa_t2.values.tolist()\n",
    "lt_t2 = [[x for x in i if x == x]for i in lt_t2]\n",
    "lt_t2 = [[i[-1]]for i in lt_t2]"
   ]
  },
  {
   "cell_type": "code",
   "execution_count": 218,
   "id": "a03f6d70",
   "metadata": {},
   "outputs": [
    {
     "name": "stdout",
     "output_type": "stream",
     "text": [
      "{'email': 3.6036036036036037, 'social': 1.8867924528301887, 'display': 2.444987775061125, 'paid_search': 5.763688760806916, 'referral': 0.9492168960607499, 'organic_search': 0.0, 'direct': 0.0} Counter({'referral': 2107, 'social': 1060, 'display': 818, 'email': 555, 'paid_search': 347, 'organic_search': 4, 'direct': 1})\n"
     ]
    }
   ],
   "source": [
    "from collections import Counter\n",
    "channel_customers_counts2 = Counter(x for i in lt_t2 for x in set(i))\n",
    "cac = []\n",
    "b = []\n",
    "for x in tier1:\n",
    "    a = int(tier2[x])/int(channel_customers_counts2[x])\n",
    "    cac.append(a)\n",
    "    b.append(x)\n",
    "cac = {b[i]:cac[i] for i in range(len(b))}\n",
    "print(cac,channel_customers_counts2)"
   ]
  },
  {
   "cell_type": "code",
   "execution_count": 219,
   "id": "0b9cfdc6",
   "metadata": {},
   "outputs": [],
   "source": [
    "lt_t3 = aa_t3.values.tolist()\n",
    "lt_t3 = [[x for x in i if x == x]for i in lt_t3]\n",
    "lt_t3 = [[i[-1]]for i in lt_t3]"
   ]
  },
  {
   "cell_type": "code",
   "execution_count": 220,
   "id": "d42e4ffc",
   "metadata": {},
   "outputs": [
    {
     "name": "stdout",
     "output_type": "stream",
     "text": [
      "{'email': 4.580152671755725, 'social': 2.3529411764705883, 'display': 3.171247357293869, 'paid_search': 6.237006237006237, 'referral': 1.1127596439169138, 'organic_search': 0.0, 'direct': 0.0} Counter({'referral': 2696, 'social': 1275, 'display': 946, 'email': 655, 'paid_search': 481, 'direct': 5, 'organic_search': 5})\n"
     ]
    }
   ],
   "source": [
    "from collections import Counter\n",
    "channel_customers_counts3 = Counter(x for i in lt_t3 for x in set(i))\n",
    "cac = []\n",
    "b = []\n",
    "for x in tier1:\n",
    "    a = int(tier3[x])/int(channel_customers_counts3[x])\n",
    "    cac.append(a)\n",
    "    b.append(x)\n",
    "cac = {b[i]:cac[i] for i in range(len(b))}\n",
    "print(cac,channel_customers_counts3)"
   ]
  },
  {
   "cell_type": "code",
   "execution_count": 221,
   "id": "5a98c630",
   "metadata": {},
   "outputs": [],
   "source": [
    "#marginal customers count"
   ]
  },
  {
   "cell_type": "code",
   "execution_count": 245,
   "id": "785cf9d7",
   "metadata": {},
   "outputs": [],
   "source": [
    "marginal_counts1 = []\n",
    "b =[]\n",
    "for x in channel_customers_counts1:\n",
    "    a = int(channel_customers_counts2[x])-int(channel_customers_counts1[x])\n",
    "    marginal_counts1.append(a)\n",
    "    b.append(x)\n",
    "mc1 = {b[i]:marginal_counts1[i] for i in range(len(b))}\n",
    "mc1['direct']=1"
   ]
  },
  {
   "cell_type": "code",
   "execution_count": 238,
   "id": "da451460",
   "metadata": {},
   "outputs": [
    {
     "data": {
      "text/plain": [
       "{'email': 100,\n",
       " 'social': 215,\n",
       " 'referral': 589,\n",
       " 'display': 128,\n",
       " 'paid_search': 134,\n",
       " 'organic_search': 1,\n",
       " 'direct': 4}"
      ]
     },
     "execution_count": 238,
     "metadata": {},
     "output_type": "execute_result"
    }
   ],
   "source": [
    "marginal_counts2 = []\n",
    "b =[]\n",
    "for x in channel_customers_counts2:\n",
    "    a = int(channel_customers_counts3[x])-int(channel_customers_counts2[x])\n",
    "    marginal_counts2.append(a)\n",
    "    b.append(x)\n",
    "mc2 = {b[i]:marginal_counts2[i] for i in range(len(b))}\n",
    "mc2"
   ]
  },
  {
   "cell_type": "code",
   "execution_count": 239,
   "id": "db8a6495",
   "metadata": {},
   "outputs": [],
   "source": [
    "## marginal_spent"
   ]
  },
  {
   "cell_type": "code",
   "execution_count": 240,
   "id": "4425b656",
   "metadata": {},
   "outputs": [
    {
     "data": {
      "text/plain": [
       "{'email': 1000,\n",
       " 'social': 1000,\n",
       " 'display': 1000,\n",
       " 'paid_search': 1001,\n",
       " 'referral': 1000,\n",
       " 'organic_search': 0,\n",
       " 'direct': 0}"
      ]
     },
     "execution_count": 240,
     "metadata": {},
     "output_type": "execute_result"
    }
   ],
   "source": [
    "marginal_spent2 = []\n",
    "b =[]\n",
    "for x in tier1:\n",
    "    a = int(tier2[x])-int(tier1[x])\n",
    "    marginal_spent2.append(a)\n",
    "    b.append(x)\n",
    "ms2 = {b[i]:marginal_spent2[i] for i in range(len(b))}\n",
    "ms2"
   ]
  },
  {
   "cell_type": "code",
   "execution_count": 241,
   "id": "975d054e",
   "metadata": {},
   "outputs": [
    {
     "data": {
      "text/plain": [
       "{'email': 1000,\n",
       " 'social': 1000,\n",
       " 'display': 1000,\n",
       " 'paid_search': 1000,\n",
       " 'referral': 1000,\n",
       " 'organic_search': 0,\n",
       " 'direct': 0}"
      ]
     },
     "execution_count": 241,
     "metadata": {},
     "output_type": "execute_result"
    }
   ],
   "source": [
    "marginal_spent3 = []\n",
    "b =[]\n",
    "for x in tier2:\n",
    "    a = int(tier3[x])-int(tier2[x])\n",
    "    marginal_spent3.append(a)\n",
    "    b.append(x)\n",
    "ms3 = {b[i]:marginal_spent3[i] for i in range(len(b))}\n",
    "ms3"
   ]
  },
  {
   "cell_type": "code",
   "execution_count": 242,
   "id": "804b042f",
   "metadata": {},
   "outputs": [],
   "source": [
    "## marginal cac"
   ]
  },
  {
   "cell_type": "code",
   "execution_count": 246,
   "id": "a869ae72",
   "metadata": {},
   "outputs": [
    {
     "data": {
      "text/plain": [
       "{'email': 3.6496350364963503,\n",
       " 'referral': 1.1160714285714286,\n",
       " 'social': 2.2988505747126435,\n",
       " 'paid_search': 5.853801169590644,\n",
       " 'display': 3.4482758620689653,\n",
       " 'direct': 0.0,\n",
       " 'organic_search': 0.0}"
      ]
     },
     "execution_count": 246,
     "metadata": {},
     "output_type": "execute_result"
    }
   ],
   "source": [
    "mcac = []\n",
    "b = []\n",
    "for x in mc1:\n",
    "    a = int(ms2[x])/int(mc1[x])\n",
    "    mcac.append(a)\n",
    "    b.append(x)\n",
    "mcac = {b[i]:mcac[i] for i in range(len(b))}\n",
    "mcac"
   ]
  },
  {
   "cell_type": "code",
   "execution_count": 244,
   "id": "b351f2c6",
   "metadata": {},
   "outputs": [
    {
     "data": {
      "text/plain": [
       "{'email': 10.0,\n",
       " 'social': 4.651162790697675,\n",
       " 'referral': 1.697792869269949,\n",
       " 'display': 7.8125,\n",
       " 'paid_search': 7.462686567164179,\n",
       " 'organic_search': 0.0,\n",
       " 'direct': 0.0}"
      ]
     },
     "execution_count": 244,
     "metadata": {},
     "output_type": "execute_result"
    }
   ],
   "source": [
    "mcac = []\n",
    "b = []\n",
    "for x in mc2:\n",
    "    a = int(ms3[x])/int(mc2[x])\n",
    "    mcac.append(a)\n",
    "    b.append(x)\n",
    "mcac = {b[i]:mcac[i] for i in range(len(b))}\n",
    "mcac"
   ]
  },
  {
   "cell_type": "code",
   "execution_count": 248,
   "id": "ba93efa6",
   "metadata": {},
   "outputs": [
    {
     "data": {
      "text/plain": [
       "{'email': 3.5587188612099645,\n",
       " 'social': 1.6,\n",
       " 'display': 1.893939393939394,\n",
       " 'paid_search': 5.676136363636363,\n",
       " 'referral': 0.8257638315441783,\n",
       " 'organic_search': 0.0,\n",
       " 'direct': 0.0}"
      ]
     },
     "execution_count": 248,
     "metadata": {},
     "output_type": "execute_result"
    }
   ],
   "source": [
    "cac"
   ]
  },
  {
   "cell_type": "code",
   "execution_count": null,
   "id": "0daac161",
   "metadata": {},
   "outputs": [],
   "source": []
  },
  {
   "cell_type": "code",
   "execution_count": null,
   "id": "81ec40ff",
   "metadata": {},
   "outputs": [],
   "source": []
  }
 ],
 "metadata": {
  "kernelspec": {
   "display_name": "Python 3",
   "language": "python",
   "name": "python3"
  },
  "language_info": {
   "codemirror_mode": {
    "name": "ipython",
    "version": 3
   },
   "file_extension": ".py",
   "mimetype": "text/x-python",
   "name": "python",
   "nbconvert_exporter": "python",
   "pygments_lexer": "ipython3",
   "version": "3.8.8"
  }
 },
 "nbformat": 4,
 "nbformat_minor": 5
}
